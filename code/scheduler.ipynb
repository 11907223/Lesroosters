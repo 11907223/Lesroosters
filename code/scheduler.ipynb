{
 "cells": [
  {
   "cell_type": "code",
   "execution_count": 1,
   "metadata": {},
   "outputs": [],
   "source": [
    "import pandas as pd\n",
    "import sys\n",
    "\n",
    "sys.path.append(\"./helpers/\")\n",
    "from load_file import load_file\n",
    "from schedule import scheduler"
   ]
  },
  {
   "cell_type": "code",
   "execution_count": 2,
   "metadata": {},
   "outputs": [
    {
     "data": {
      "text/plain": [
       "{'vakken': {'Vak': {'0': 'Advanced Heuristics',\n",
       "   '1': 'Algoritmen en complexiteit',\n",
       "   '2': 'Analysemethoden en -technieken',\n",
       "   '3': 'Architectuur en computerorganisatie',\n",
       "   '4': 'Autonomous Agents 2',\n",
       "   '5': 'Bioinformatica',\n",
       "   '6': 'Calculus 2',\n",
       "   '7': 'Collectieve Intelligentie',\n",
       "   '8': 'Compilerbouw',\n",
       "   '9': 'Compilerbouw practicum',\n",
       "   '10': 'Data Mining',\n",
       "   '11': 'Databases 2',\n",
       "   '12': 'Heuristieken 1',\n",
       "   '13': 'Heuristieken 2',\n",
       "   '14': 'Informatie- en organisatieontwerp',\n",
       "   '15': 'Interactie-ontwerp',\n",
       "   '16': 'Kansrekenen 2',\n",
       "   '17': 'Lineaire Algebra',\n",
       "   '18': 'Machine Learning',\n",
       "   '19': 'Moderne Databases',\n",
       "   '20': 'Netwerken en systeembeveiliging',\n",
       "   '21': 'Programmeren in Java 2',\n",
       "   '22': 'Project Genetic Algorithms',\n",
       "   '23': 'Project Numerical Recipes',\n",
       "   '24': 'Reflectie op de digitale cultuur',\n",
       "   '25': 'Software engineering',\n",
       "   '26': 'Technology for games',\n",
       "   '27': 'Webprogrammeren en databases',\n",
       "   '28': 'Zoeken sturen en bewegen'},\n",
       "  '#Hoorcolleges': {'0': 1,\n",
       "   '1': 1,\n",
       "   '2': 1,\n",
       "   '3': 2,\n",
       "   '4': 2,\n",
       "   '5': 3,\n",
       "   '6': 1,\n",
       "   '7': 3,\n",
       "   '8': 2,\n",
       "   '9': 0,\n",
       "   '10': 2,\n",
       "   '11': 1,\n",
       "   '12': 1,\n",
       "   '13': 1,\n",
       "   '14': 2,\n",
       "   '15': 2,\n",
       "   '16': 2,\n",
       "   '17': 2,\n",
       "   '18': 2,\n",
       "   '19': 1,\n",
       "   '20': 0,\n",
       "   '21': 0,\n",
       "   '22': 0,\n",
       "   '23': 0,\n",
       "   '24': 2,\n",
       "   '25': 1,\n",
       "   '26': 2,\n",
       "   '27': 2,\n",
       "   '28': 0},\n",
       "  '#Werkcolleges': {'0': 0,\n",
       "   '1': 1,\n",
       "   '2': 0,\n",
       "   '3': 0,\n",
       "   '4': 1,\n",
       "   '5': 1,\n",
       "   '6': 1,\n",
       "   '7': 1,\n",
       "   '8': 1,\n",
       "   '9': 0,\n",
       "   '10': 1,\n",
       "   '11': 1,\n",
       "   '12': 1,\n",
       "   '13': 1,\n",
       "   '14': 1,\n",
       "   '15': 0,\n",
       "   '16': 0,\n",
       "   '17': 0,\n",
       "   '18': 0,\n",
       "   '19': 1,\n",
       "   '20': 0,\n",
       "   '21': 0,\n",
       "   '22': 0,\n",
       "   '23': 0,\n",
       "   '24': 1,\n",
       "   '25': 1,\n",
       "   '26': 1,\n",
       "   '27': 1,\n",
       "   '28': 0},\n",
       "  'Max. stud. Werkcollege': {'0': None,\n",
       "   '1': 25.0,\n",
       "   '2': None,\n",
       "   '3': None,\n",
       "   '4': 10.0,\n",
       "   '5': 20.0,\n",
       "   '6': 40.0,\n",
       "   '7': 20.0,\n",
       "   '8': 40.0,\n",
       "   '9': None,\n",
       "   '10': 10.0,\n",
       "   '11': 40.0,\n",
       "   '12': 25.0,\n",
       "   '13': 20.0,\n",
       "   '14': 15.0,\n",
       "   '15': None,\n",
       "   '16': None,\n",
       "   '17': None,\n",
       "   '18': None,\n",
       "   '19': 20.0,\n",
       "   '20': None,\n",
       "   '21': None,\n",
       "   '22': None,\n",
       "   '23': None,\n",
       "   '24': 20.0,\n",
       "   '25': 40.0,\n",
       "   '26': 20.0,\n",
       "   '27': 20.0,\n",
       "   '28': None},\n",
       "  '#Practica': {'0': 1,\n",
       "   '1': 1,\n",
       "   '2': 0,\n",
       "   '3': 0,\n",
       "   '4': 1,\n",
       "   '5': 1,\n",
       "   '6': 0,\n",
       "   '7': 1,\n",
       "   '8': 1,\n",
       "   '9': 1,\n",
       "   '10': 1,\n",
       "   '11': 0,\n",
       "   '12': 0,\n",
       "   '13': 0,\n",
       "   '14': 1,\n",
       "   '15': 0,\n",
       "   '16': 0,\n",
       "   '17': 0,\n",
       "   '18': 0,\n",
       "   '19': 1,\n",
       "   '20': 1,\n",
       "   '21': 1,\n",
       "   '22': 1,\n",
       "   '23': 1,\n",
       "   '24': 0,\n",
       "   '25': 1,\n",
       "   '26': 0,\n",
       "   '27': 1,\n",
       "   '28': 1},\n",
       "  'Max. stud. Practicum': {'0': 10.0,\n",
       "   '1': 25.0,\n",
       "   '2': None,\n",
       "   '3': None,\n",
       "   '4': 10.0,\n",
       "   '5': 20.0,\n",
       "   '6': None,\n",
       "   '7': 20.0,\n",
       "   '8': 40.0,\n",
       "   '9': 15.0,\n",
       "   '10': 10.0,\n",
       "   '11': None,\n",
       "   '12': None,\n",
       "   '13': None,\n",
       "   '14': 15.0,\n",
       "   '15': None,\n",
       "   '16': None,\n",
       "   '17': None,\n",
       "   '18': None,\n",
       "   '19': 20.0,\n",
       "   '20': 20.0,\n",
       "   '21': 20.0,\n",
       "   '22': 15.0,\n",
       "   '23': 15.0,\n",
       "   '24': None,\n",
       "   '25': 40.0,\n",
       "   '26': None,\n",
       "   '27': 20.0,\n",
       "   '28': 15.0},\n",
       "  'Verwacht': {'0': 22,\n",
       "   '1': 47,\n",
       "   '2': 60,\n",
       "   '3': 19,\n",
       "   '4': 19,\n",
       "   '5': 40,\n",
       "   '6': 90,\n",
       "   '7': 65,\n",
       "   '8': 70,\n",
       "   '9': 35,\n",
       "   '10': 30,\n",
       "   '11': 69,\n",
       "   '12': 44,\n",
       "   '13': 30,\n",
       "   '14': 40,\n",
       "   '15': 31,\n",
       "   '16': 70,\n",
       "   '17': 50,\n",
       "   '18': 25,\n",
       "   '19': 60,\n",
       "   '20': 50,\n",
       "   '21': 95,\n",
       "   '22': 40,\n",
       "   '23': 40,\n",
       "   '24': 53,\n",
       "   '25': 75,\n",
       "   '26': 50,\n",
       "   '27': 46,\n",
       "   '28': 45}},\n",
       " 'zalen': {'Zaalnummber': {'0': 'A1.04',\n",
       "   '1': 'A1.06',\n",
       "   '2': 'A1.08',\n",
       "   '3': 'A1.10',\n",
       "   '4': 'B0.201',\n",
       "   '5': 'C0.110',\n",
       "   '6': 'C1.112'},\n",
       "  'Max. capaciteit': {'0': 41,\n",
       "   '1': 22,\n",
       "   '2': 20,\n",
       "   '3': 56,\n",
       "   '4': 48,\n",
       "   '5': 117,\n",
       "   '6': 60}}}"
      ]
     },
     "metadata": {},
     "output_type": "display_data"
    }
   ],
   "source": [
    "json_data = {}\n",
    "for file in [\"vakken\", \"zalen\"]:\n",
    "    json_data[file] = load_file(file)\n",
    "\n",
    "display(json_data)"
   ]
  },
  {
   "cell_type": "code",
   "execution_count": 3,
   "metadata": {},
   "outputs": [
    {
     "data": {
      "text/html": [
       "<div>\n",
       "<style scoped>\n",
       "    .dataframe tbody tr th:only-of-type {\n",
       "        vertical-align: middle;\n",
       "    }\n",
       "\n",
       "    .dataframe tbody tr th {\n",
       "        vertical-align: top;\n",
       "    }\n",
       "\n",
       "    .dataframe thead th {\n",
       "        text-align: right;\n",
       "    }\n",
       "</style>\n",
       "<table border=\"1\" class=\"dataframe\">\n",
       "  <thead>\n",
       "    <tr style=\"text-align: right;\">\n",
       "      <th></th>\n",
       "      <th>Vak</th>\n",
       "      <th>#Hoorcolleges</th>\n",
       "      <th>#Werkcolleges</th>\n",
       "      <th>Max. stud. Werkcollege</th>\n",
       "      <th>#Practica</th>\n",
       "      <th>Max. stud. Practicum</th>\n",
       "      <th>Verwacht</th>\n",
       "    </tr>\n",
       "  </thead>\n",
       "  <tbody>\n",
       "    <tr>\n",
       "      <th>0</th>\n",
       "      <td>Advanced Heuristics</td>\n",
       "      <td>1</td>\n",
       "      <td>0</td>\n",
       "      <td>NaN</td>\n",
       "      <td>1</td>\n",
       "      <td>10.0</td>\n",
       "      <td>22</td>\n",
       "    </tr>\n",
       "    <tr>\n",
       "      <th>1</th>\n",
       "      <td>Algoritmen en complexiteit</td>\n",
       "      <td>1</td>\n",
       "      <td>1</td>\n",
       "      <td>25.0</td>\n",
       "      <td>1</td>\n",
       "      <td>25.0</td>\n",
       "      <td>47</td>\n",
       "    </tr>\n",
       "    <tr>\n",
       "      <th>2</th>\n",
       "      <td>Analysemethoden en -technieken</td>\n",
       "      <td>1</td>\n",
       "      <td>0</td>\n",
       "      <td>NaN</td>\n",
       "      <td>0</td>\n",
       "      <td>NaN</td>\n",
       "      <td>60</td>\n",
       "    </tr>\n",
       "    <tr>\n",
       "      <th>3</th>\n",
       "      <td>Architectuur en computerorganisatie</td>\n",
       "      <td>2</td>\n",
       "      <td>0</td>\n",
       "      <td>NaN</td>\n",
       "      <td>0</td>\n",
       "      <td>NaN</td>\n",
       "      <td>19</td>\n",
       "    </tr>\n",
       "    <tr>\n",
       "      <th>4</th>\n",
       "      <td>Autonomous Agents 2</td>\n",
       "      <td>2</td>\n",
       "      <td>1</td>\n",
       "      <td>10.0</td>\n",
       "      <td>1</td>\n",
       "      <td>10.0</td>\n",
       "      <td>19</td>\n",
       "    </tr>\n",
       "    <tr>\n",
       "      <th>5</th>\n",
       "      <td>Bioinformatica</td>\n",
       "      <td>3</td>\n",
       "      <td>1</td>\n",
       "      <td>20.0</td>\n",
       "      <td>1</td>\n",
       "      <td>20.0</td>\n",
       "      <td>40</td>\n",
       "    </tr>\n",
       "    <tr>\n",
       "      <th>6</th>\n",
       "      <td>Calculus 2</td>\n",
       "      <td>1</td>\n",
       "      <td>1</td>\n",
       "      <td>40.0</td>\n",
       "      <td>0</td>\n",
       "      <td>NaN</td>\n",
       "      <td>90</td>\n",
       "    </tr>\n",
       "    <tr>\n",
       "      <th>7</th>\n",
       "      <td>Collectieve Intelligentie</td>\n",
       "      <td>3</td>\n",
       "      <td>1</td>\n",
       "      <td>20.0</td>\n",
       "      <td>1</td>\n",
       "      <td>20.0</td>\n",
       "      <td>65</td>\n",
       "    </tr>\n",
       "    <tr>\n",
       "      <th>8</th>\n",
       "      <td>Compilerbouw</td>\n",
       "      <td>2</td>\n",
       "      <td>1</td>\n",
       "      <td>40.0</td>\n",
       "      <td>1</td>\n",
       "      <td>40.0</td>\n",
       "      <td>70</td>\n",
       "    </tr>\n",
       "    <tr>\n",
       "      <th>9</th>\n",
       "      <td>Compilerbouw practicum</td>\n",
       "      <td>0</td>\n",
       "      <td>0</td>\n",
       "      <td>NaN</td>\n",
       "      <td>1</td>\n",
       "      <td>15.0</td>\n",
       "      <td>35</td>\n",
       "    </tr>\n",
       "    <tr>\n",
       "      <th>10</th>\n",
       "      <td>Data Mining</td>\n",
       "      <td>2</td>\n",
       "      <td>1</td>\n",
       "      <td>10.0</td>\n",
       "      <td>1</td>\n",
       "      <td>10.0</td>\n",
       "      <td>30</td>\n",
       "    </tr>\n",
       "    <tr>\n",
       "      <th>11</th>\n",
       "      <td>Databases 2</td>\n",
       "      <td>1</td>\n",
       "      <td>1</td>\n",
       "      <td>40.0</td>\n",
       "      <td>0</td>\n",
       "      <td>NaN</td>\n",
       "      <td>69</td>\n",
       "    </tr>\n",
       "    <tr>\n",
       "      <th>12</th>\n",
       "      <td>Heuristieken 1</td>\n",
       "      <td>1</td>\n",
       "      <td>1</td>\n",
       "      <td>25.0</td>\n",
       "      <td>0</td>\n",
       "      <td>NaN</td>\n",
       "      <td>44</td>\n",
       "    </tr>\n",
       "    <tr>\n",
       "      <th>13</th>\n",
       "      <td>Heuristieken 2</td>\n",
       "      <td>1</td>\n",
       "      <td>1</td>\n",
       "      <td>20.0</td>\n",
       "      <td>0</td>\n",
       "      <td>NaN</td>\n",
       "      <td>30</td>\n",
       "    </tr>\n",
       "    <tr>\n",
       "      <th>14</th>\n",
       "      <td>Informatie- en organisatieontwerp</td>\n",
       "      <td>2</td>\n",
       "      <td>1</td>\n",
       "      <td>15.0</td>\n",
       "      <td>1</td>\n",
       "      <td>15.0</td>\n",
       "      <td>40</td>\n",
       "    </tr>\n",
       "    <tr>\n",
       "      <th>15</th>\n",
       "      <td>Interactie-ontwerp</td>\n",
       "      <td>2</td>\n",
       "      <td>0</td>\n",
       "      <td>NaN</td>\n",
       "      <td>0</td>\n",
       "      <td>NaN</td>\n",
       "      <td>31</td>\n",
       "    </tr>\n",
       "    <tr>\n",
       "      <th>16</th>\n",
       "      <td>Kansrekenen 2</td>\n",
       "      <td>2</td>\n",
       "      <td>0</td>\n",
       "      <td>NaN</td>\n",
       "      <td>0</td>\n",
       "      <td>NaN</td>\n",
       "      <td>70</td>\n",
       "    </tr>\n",
       "    <tr>\n",
       "      <th>17</th>\n",
       "      <td>Lineaire Algebra</td>\n",
       "      <td>2</td>\n",
       "      <td>0</td>\n",
       "      <td>NaN</td>\n",
       "      <td>0</td>\n",
       "      <td>NaN</td>\n",
       "      <td>50</td>\n",
       "    </tr>\n",
       "    <tr>\n",
       "      <th>18</th>\n",
       "      <td>Machine Learning</td>\n",
       "      <td>2</td>\n",
       "      <td>0</td>\n",
       "      <td>NaN</td>\n",
       "      <td>0</td>\n",
       "      <td>NaN</td>\n",
       "      <td>25</td>\n",
       "    </tr>\n",
       "    <tr>\n",
       "      <th>19</th>\n",
       "      <td>Moderne Databases</td>\n",
       "      <td>1</td>\n",
       "      <td>1</td>\n",
       "      <td>20.0</td>\n",
       "      <td>1</td>\n",
       "      <td>20.0</td>\n",
       "      <td>60</td>\n",
       "    </tr>\n",
       "    <tr>\n",
       "      <th>20</th>\n",
       "      <td>Netwerken en systeembeveiliging</td>\n",
       "      <td>0</td>\n",
       "      <td>0</td>\n",
       "      <td>NaN</td>\n",
       "      <td>1</td>\n",
       "      <td>20.0</td>\n",
       "      <td>50</td>\n",
       "    </tr>\n",
       "    <tr>\n",
       "      <th>21</th>\n",
       "      <td>Programmeren in Java 2</td>\n",
       "      <td>0</td>\n",
       "      <td>0</td>\n",
       "      <td>NaN</td>\n",
       "      <td>1</td>\n",
       "      <td>20.0</td>\n",
       "      <td>95</td>\n",
       "    </tr>\n",
       "    <tr>\n",
       "      <th>22</th>\n",
       "      <td>Project Genetic Algorithms</td>\n",
       "      <td>0</td>\n",
       "      <td>0</td>\n",
       "      <td>NaN</td>\n",
       "      <td>1</td>\n",
       "      <td>15.0</td>\n",
       "      <td>40</td>\n",
       "    </tr>\n",
       "    <tr>\n",
       "      <th>23</th>\n",
       "      <td>Project Numerical Recipes</td>\n",
       "      <td>0</td>\n",
       "      <td>0</td>\n",
       "      <td>NaN</td>\n",
       "      <td>1</td>\n",
       "      <td>15.0</td>\n",
       "      <td>40</td>\n",
       "    </tr>\n",
       "    <tr>\n",
       "      <th>24</th>\n",
       "      <td>Reflectie op de digitale cultuur</td>\n",
       "      <td>2</td>\n",
       "      <td>1</td>\n",
       "      <td>20.0</td>\n",
       "      <td>0</td>\n",
       "      <td>NaN</td>\n",
       "      <td>53</td>\n",
       "    </tr>\n",
       "    <tr>\n",
       "      <th>25</th>\n",
       "      <td>Software engineering</td>\n",
       "      <td>1</td>\n",
       "      <td>1</td>\n",
       "      <td>40.0</td>\n",
       "      <td>1</td>\n",
       "      <td>40.0</td>\n",
       "      <td>75</td>\n",
       "    </tr>\n",
       "    <tr>\n",
       "      <th>26</th>\n",
       "      <td>Technology for games</td>\n",
       "      <td>2</td>\n",
       "      <td>1</td>\n",
       "      <td>20.0</td>\n",
       "      <td>0</td>\n",
       "      <td>NaN</td>\n",
       "      <td>50</td>\n",
       "    </tr>\n",
       "    <tr>\n",
       "      <th>27</th>\n",
       "      <td>Webprogrammeren en databases</td>\n",
       "      <td>2</td>\n",
       "      <td>1</td>\n",
       "      <td>20.0</td>\n",
       "      <td>1</td>\n",
       "      <td>20.0</td>\n",
       "      <td>46</td>\n",
       "    </tr>\n",
       "    <tr>\n",
       "      <th>28</th>\n",
       "      <td>Zoeken sturen en bewegen</td>\n",
       "      <td>0</td>\n",
       "      <td>0</td>\n",
       "      <td>NaN</td>\n",
       "      <td>1</td>\n",
       "      <td>15.0</td>\n",
       "      <td>45</td>\n",
       "    </tr>\n",
       "  </tbody>\n",
       "</table>\n",
       "</div>"
      ],
      "text/plain": [
       "                                    Vak  #Hoorcolleges  #Werkcolleges  \\\n",
       "0                   Advanced Heuristics              1              0   \n",
       "1            Algoritmen en complexiteit              1              1   \n",
       "2        Analysemethoden en -technieken              1              0   \n",
       "3   Architectuur en computerorganisatie              2              0   \n",
       "4                   Autonomous Agents 2              2              1   \n",
       "5                        Bioinformatica              3              1   \n",
       "6                            Calculus 2              1              1   \n",
       "7             Collectieve Intelligentie              3              1   \n",
       "8                          Compilerbouw              2              1   \n",
       "9                Compilerbouw practicum              0              0   \n",
       "10                          Data Mining              2              1   \n",
       "11                          Databases 2              1              1   \n",
       "12                       Heuristieken 1              1              1   \n",
       "13                       Heuristieken 2              1              1   \n",
       "14    Informatie- en organisatieontwerp              2              1   \n",
       "15                   Interactie-ontwerp              2              0   \n",
       "16                        Kansrekenen 2              2              0   \n",
       "17                     Lineaire Algebra              2              0   \n",
       "18                     Machine Learning              2              0   \n",
       "19                    Moderne Databases              1              1   \n",
       "20      Netwerken en systeembeveiliging              0              0   \n",
       "21               Programmeren in Java 2              0              0   \n",
       "22           Project Genetic Algorithms              0              0   \n",
       "23            Project Numerical Recipes              0              0   \n",
       "24     Reflectie op de digitale cultuur              2              1   \n",
       "25                 Software engineering              1              1   \n",
       "26                 Technology for games              2              1   \n",
       "27         Webprogrammeren en databases              2              1   \n",
       "28             Zoeken sturen en bewegen              0              0   \n",
       "\n",
       "    Max. stud. Werkcollege  #Practica  Max. stud. Practicum  Verwacht  \n",
       "0                      NaN          1                  10.0        22  \n",
       "1                     25.0          1                  25.0        47  \n",
       "2                      NaN          0                   NaN        60  \n",
       "3                      NaN          0                   NaN        19  \n",
       "4                     10.0          1                  10.0        19  \n",
       "5                     20.0          1                  20.0        40  \n",
       "6                     40.0          0                   NaN        90  \n",
       "7                     20.0          1                  20.0        65  \n",
       "8                     40.0          1                  40.0        70  \n",
       "9                      NaN          1                  15.0        35  \n",
       "10                    10.0          1                  10.0        30  \n",
       "11                    40.0          0                   NaN        69  \n",
       "12                    25.0          0                   NaN        44  \n",
       "13                    20.0          0                   NaN        30  \n",
       "14                    15.0          1                  15.0        40  \n",
       "15                     NaN          0                   NaN        31  \n",
       "16                     NaN          0                   NaN        70  \n",
       "17                     NaN          0                   NaN        50  \n",
       "18                     NaN          0                   NaN        25  \n",
       "19                    20.0          1                  20.0        60  \n",
       "20                     NaN          1                  20.0        50  \n",
       "21                     NaN          1                  20.0        95  \n",
       "22                     NaN          1                  15.0        40  \n",
       "23                     NaN          1                  15.0        40  \n",
       "24                    20.0          0                   NaN        53  \n",
       "25                    40.0          1                  40.0        75  \n",
       "26                    20.0          0                   NaN        50  \n",
       "27                    20.0          1                  20.0        46  \n",
       "28                     NaN          1                  15.0        45  "
      ]
     },
     "metadata": {},
     "output_type": "display_data"
    },
    {
     "data": {
      "text/html": [
       "<div>\n",
       "<style scoped>\n",
       "    .dataframe tbody tr th:only-of-type {\n",
       "        vertical-align: middle;\n",
       "    }\n",
       "\n",
       "    .dataframe tbody tr th {\n",
       "        vertical-align: top;\n",
       "    }\n",
       "\n",
       "    .dataframe thead th {\n",
       "        text-align: right;\n",
       "    }\n",
       "</style>\n",
       "<table border=\"1\" class=\"dataframe\">\n",
       "  <thead>\n",
       "    <tr style=\"text-align: right;\">\n",
       "      <th></th>\n",
       "      <th>Zaalnummber</th>\n",
       "      <th>Max. capaciteit</th>\n",
       "    </tr>\n",
       "  </thead>\n",
       "  <tbody>\n",
       "    <tr>\n",
       "      <th>0</th>\n",
       "      <td>A1.04</td>\n",
       "      <td>41</td>\n",
       "    </tr>\n",
       "    <tr>\n",
       "      <th>1</th>\n",
       "      <td>A1.06</td>\n",
       "      <td>22</td>\n",
       "    </tr>\n",
       "    <tr>\n",
       "      <th>2</th>\n",
       "      <td>A1.08</td>\n",
       "      <td>20</td>\n",
       "    </tr>\n",
       "    <tr>\n",
       "      <th>3</th>\n",
       "      <td>A1.10</td>\n",
       "      <td>56</td>\n",
       "    </tr>\n",
       "    <tr>\n",
       "      <th>4</th>\n",
       "      <td>B0.201</td>\n",
       "      <td>48</td>\n",
       "    </tr>\n",
       "    <tr>\n",
       "      <th>5</th>\n",
       "      <td>C0.110</td>\n",
       "      <td>117</td>\n",
       "    </tr>\n",
       "    <tr>\n",
       "      <th>6</th>\n",
       "      <td>C1.112</td>\n",
       "      <td>60</td>\n",
       "    </tr>\n",
       "  </tbody>\n",
       "</table>\n",
       "</div>"
      ],
      "text/plain": [
       "  Zaalnummber  Max. capaciteit\n",
       "0       A1.04               41\n",
       "1       A1.06               22\n",
       "2       A1.08               20\n",
       "3       A1.10               56\n",
       "4      B0.201               48\n",
       "5      C0.110              117\n",
       "6      C1.112               60"
      ]
     },
     "metadata": {},
     "output_type": "display_data"
    }
   ],
   "source": [
    "df_vakken = pd.read_csv(\"../data/vakken.csv\")\n",
    "df_zalen = pd.read_csv(\"../data/zalen.csv\")\n",
    "\n",
    "display(df_vakken, df_zalen)"
   ]
  },
  {
   "attachments": {},
   "cell_type": "markdown",
   "metadata": {},
   "source": [
    "Assign minimum room size to each Hoorcollege based on expected # of students"
   ]
  },
  {
   "attachments": {},
   "cell_type": "markdown",
   "metadata": {},
   "source": [
    "greedy?\n",
    "\n",
    "step 1: find smallest room\n",
    "\n",
    "step 2: find first available space\n",
    "\n",
    "step 3: place"
   ]
  },
  {
   "cell_type": "code",
   "execution_count": 4,
   "metadata": {},
   "outputs": [],
   "source": [
    "schedule = scheduler()"
   ]
  },
  {
   "cell_type": "code",
   "execution_count": 5,
   "metadata": {},
   "outputs": [
    {
     "name": "stdout",
     "output_type": "stream",
     "text": [
      "Advanced Heuristics 2\n"
     ]
    }
   ],
   "source": [
    "print(df_vakken.iloc[0][\"Vak\"], df_vakken.iloc[0][\"#Hoorcolleges\"] + df_vakken.iloc[0][\"#Practica\"] + df_vakken.iloc[0][\"#Werkcolleges\"])"
   ]
  },
  {
   "cell_type": "code",
   "execution_count": 6,
   "metadata": {},
   "outputs": [
    {
     "name": "stdout",
     "output_type": "stream",
     "text": [
      "[  Zaalnummber  Max. capaciteit\n",
      "0       A1.04               41,   Zaalnummber  Max. capaciteit\n",
      "1       A1.06               22,   Zaalnummber  Max. capaciteit\n",
      "3       A1.10               56,   Zaalnummber  Max. capaciteit\n",
      "4      B0.201               48,   Zaalnummber  Max. capaciteit\n",
      "5      C0.110              117,   Zaalnummber  Max. capaciteit\n",
      "6      C1.112               60]\n",
      "[  Zaalnummber  Max. capaciteit\n",
      "3       A1.10               56,   Zaalnummber  Max. capaciteit\n",
      "4      B0.201               48,   Zaalnummber  Max. capaciteit\n",
      "5      C0.110              117,   Zaalnummber  Max. capaciteit\n",
      "6      C1.112               60]\n",
      "[  Zaalnummber  Max. capaciteit\n",
      "5      C0.110              117,   Zaalnummber  Max. capaciteit\n",
      "6      C1.112               60]\n",
      "[  Zaalnummber  Max. capaciteit\n",
      "0       A1.04               41,   Zaalnummber  Max. capaciteit\n",
      "1       A1.06               22,   Zaalnummber  Max. capaciteit\n",
      "2       A1.08               20,   Zaalnummber  Max. capaciteit\n",
      "3       A1.10               56,   Zaalnummber  Max. capaciteit\n",
      "4      B0.201               48,   Zaalnummber  Max. capaciteit\n",
      "5      C0.110              117,   Zaalnummber  Max. capaciteit\n",
      "6      C1.112               60]\n",
      "[  Zaalnummber  Max. capaciteit\n",
      "0       A1.04               41,   Zaalnummber  Max. capaciteit\n",
      "1       A1.06               22,   Zaalnummber  Max. capaciteit\n",
      "2       A1.08               20,   Zaalnummber  Max. capaciteit\n",
      "3       A1.10               56,   Zaalnummber  Max. capaciteit\n",
      "4      B0.201               48,   Zaalnummber  Max. capaciteit\n",
      "5      C0.110              117,   Zaalnummber  Max. capaciteit\n",
      "6      C1.112               60]\n",
      "[  Zaalnummber  Max. capaciteit\n",
      "0       A1.04               41,   Zaalnummber  Max. capaciteit\n",
      "3       A1.10               56,   Zaalnummber  Max. capaciteit\n",
      "4      B0.201               48,   Zaalnummber  Max. capaciteit\n",
      "5      C0.110              117,   Zaalnummber  Max. capaciteit\n",
      "6      C1.112               60]\n",
      "[  Zaalnummber  Max. capaciteit\n",
      "5      C0.110              117]\n",
      "[  Zaalnummber  Max. capaciteit\n",
      "5      C0.110              117]\n",
      "[  Zaalnummber  Max. capaciteit\n",
      "5      C0.110              117]\n",
      "[  Zaalnummber  Max. capaciteit\n",
      "0       A1.04               41,   Zaalnummber  Max. capaciteit\n",
      "3       A1.10               56,   Zaalnummber  Max. capaciteit\n",
      "4      B0.201               48,   Zaalnummber  Max. capaciteit\n",
      "5      C0.110              117,   Zaalnummber  Max. capaciteit\n",
      "6      C1.112               60]\n",
      "[  Zaalnummber  Max. capaciteit\n",
      "0       A1.04               41,   Zaalnummber  Max. capaciteit\n",
      "3       A1.10               56,   Zaalnummber  Max. capaciteit\n",
      "4      B0.201               48,   Zaalnummber  Max. capaciteit\n",
      "5      C0.110              117,   Zaalnummber  Max. capaciteit\n",
      "6      C1.112               60]\n",
      "[  Zaalnummber  Max. capaciteit\n",
      "5      C0.110              117]\n",
      "[  Zaalnummber  Max. capaciteit\n",
      "3       A1.10               56,   Zaalnummber  Max. capaciteit\n",
      "4      B0.201               48,   Zaalnummber  Max. capaciteit\n",
      "5      C0.110              117,   Zaalnummber  Max. capaciteit\n",
      "6      C1.112               60]\n",
      "[  Zaalnummber  Max. capaciteit\n",
      "0       A1.04               41,   Zaalnummber  Max. capaciteit\n",
      "3       A1.10               56,   Zaalnummber  Max. capaciteit\n",
      "4      B0.201               48,   Zaalnummber  Max. capaciteit\n",
      "5      C0.110              117,   Zaalnummber  Max. capaciteit\n",
      "6      C1.112               60]\n",
      "[  Zaalnummber  Max. capaciteit\n",
      "0       A1.04               41,   Zaalnummber  Max. capaciteit\n",
      "3       A1.10               56,   Zaalnummber  Max. capaciteit\n",
      "4      B0.201               48,   Zaalnummber  Max. capaciteit\n",
      "5      C0.110              117,   Zaalnummber  Max. capaciteit\n",
      "6      C1.112               60]\n",
      "[  Zaalnummber  Max. capaciteit\n",
      "0       A1.04               41,   Zaalnummber  Max. capaciteit\n",
      "3       A1.10               56,   Zaalnummber  Max. capaciteit\n",
      "4      B0.201               48,   Zaalnummber  Max. capaciteit\n",
      "5      C0.110              117,   Zaalnummber  Max. capaciteit\n",
      "6      C1.112               60]\n",
      "[  Zaalnummber  Max. capaciteit\n",
      "5      C0.110              117]\n",
      "[  Zaalnummber  Max. capaciteit\n",
      "3       A1.10               56,   Zaalnummber  Max. capaciteit\n",
      "5      C0.110              117,   Zaalnummber  Max. capaciteit\n",
      "6      C1.112               60]\n",
      "[  Zaalnummber  Max. capaciteit\n",
      "0       A1.04               41,   Zaalnummber  Max. capaciteit\n",
      "3       A1.10               56,   Zaalnummber  Max. capaciteit\n",
      "4      B0.201               48,   Zaalnummber  Max. capaciteit\n",
      "5      C0.110              117,   Zaalnummber  Max. capaciteit\n",
      "6      C1.112               60]\n",
      "[  Zaalnummber  Max. capaciteit\n",
      "5      C0.110              117,   Zaalnummber  Max. capaciteit\n",
      "6      C1.112               60]\n",
      "[  Zaalnummber  Max. capaciteit\n",
      "3       A1.10               56,   Zaalnummber  Max. capaciteit\n",
      "5      C0.110              117,   Zaalnummber  Max. capaciteit\n",
      "6      C1.112               60]\n",
      "[  Zaalnummber  Max. capaciteit\n",
      "5      C0.110              117]\n",
      "[  Zaalnummber  Max. capaciteit\n",
      "0       A1.04               41,   Zaalnummber  Max. capaciteit\n",
      "3       A1.10               56,   Zaalnummber  Max. capaciteit\n",
      "4      B0.201               48,   Zaalnummber  Max. capaciteit\n",
      "5      C0.110              117,   Zaalnummber  Max. capaciteit\n",
      "6      C1.112               60]\n",
      "[  Zaalnummber  Max. capaciteit\n",
      "0       A1.04               41,   Zaalnummber  Max. capaciteit\n",
      "3       A1.10               56,   Zaalnummber  Max. capaciteit\n",
      "4      B0.201               48,   Zaalnummber  Max. capaciteit\n",
      "5      C0.110              117,   Zaalnummber  Max. capaciteit\n",
      "6      C1.112               60]\n",
      "[  Zaalnummber  Max. capaciteit\n",
      "3       A1.10               56,   Zaalnummber  Max. capaciteit\n",
      "5      C0.110              117,   Zaalnummber  Max. capaciteit\n",
      "6      C1.112               60]\n",
      "[  Zaalnummber  Max. capaciteit\n",
      "5      C0.110              117]\n",
      "[  Zaalnummber  Max. capaciteit\n",
      "3       A1.10               56,   Zaalnummber  Max. capaciteit\n",
      "5      C0.110              117,   Zaalnummber  Max. capaciteit\n",
      "6      C1.112               60]\n",
      "[  Zaalnummber  Max. capaciteit\n",
      "3       A1.10               56,   Zaalnummber  Max. capaciteit\n",
      "4      B0.201               48,   Zaalnummber  Max. capaciteit\n",
      "5      C0.110              117,   Zaalnummber  Max. capaciteit\n",
      "6      C1.112               60]\n",
      "[  Zaalnummber  Max. capaciteit\n",
      "3       A1.10               56,   Zaalnummber  Max. capaciteit\n",
      "4      B0.201               48,   Zaalnummber  Max. capaciteit\n",
      "5      C0.110              117,   Zaalnummber  Max. capaciteit\n",
      "6      C1.112               60]\n"
     ]
    }
   ],
   "source": [
    "for expected in df_vakken[\"Verwacht\"]:\n",
    "    # bob = next(df_zalen.index[df_zalen[\"Max. capaciteit\"] == i][0] for i in sorted(df_zalen[\"Max. capaciteit\"]) if i >= expected)\n",
    "    bob = [df_zalen[df_zalen[\"Max. capaciteit\"] == i].sort_values(\"Max. capaciteit\", ascending=True) for i in df_zalen[\"Max. capaciteit\"] if i >= expected]\n",
    "    print(bob)"
   ]
  },
  {
   "cell_type": "code",
   "execution_count": 7,
   "metadata": {},
   "outputs": [],
   "source": [
    "import json\n",
    "from IPython.display import JSON"
   ]
  },
  {
   "cell_type": "code",
   "execution_count": 63,
   "metadata": {},
   "outputs": [
    {
     "data": {
      "application/json": {
       "Friday": {
        "9": {
         "A1.04": {},
         "A1.06": {},
         "A1.08": {},
         "A1.10": {},
         "B0.201": {},
         "C0.110": {},
         "C1.112": {}
        },
        "11": {
         "A1.04": {},
         "A1.06": {},
         "A1.08": {},
         "A1.10": {},
         "B0.201": {},
         "C0.110": {},
         "C1.112": {}
        },
        "13": {
         "A1.04": {},
         "A1.06": {},
         "A1.08": {},
         "A1.10": {},
         "B0.201": {},
         "C0.110": {},
         "C1.112": {}
        },
        "15": {
         "A1.04": {},
         "A1.06": {},
         "A1.08": {},
         "A1.10": {},
         "B0.201": {},
         "C0.110": {},
         "C1.112": {}
        },
        "17": {
         "A1.04": {},
         "A1.06": {},
         "A1.08": {},
         "A1.10": {},
         "B0.201": {},
         "C0.110": {},
         "C1.112": {}
        }
       },
       "Monday": {
        "9": {
         "A1.04": {
          "Advanced Heuristics": 2
         },
         "A1.06": {
          "Advanced Heuristics": 1
         },
         "A1.08": {
          "Algoritmen en complexiteit": 3
         },
         "A1.10": {
          "Algoritmen en complexiteit": 2
         },
         "B0.201": {
          "Algoritmen en complexiteit": 1
         },
         "C0.110": {
          "Analysemethoden en -technieken": 1
         },
         "C1.112": {
          "Architectuur en computerorganisatie": 2
         }
        },
        "11": {
         "A1.04": {
          "Architectuur en computerorganisatie": 1
         },
         "A1.06": {
          "Autonomous Agents 2": 4
         },
         "A1.08": {
          "Autonomous Agents 2": 3
         },
         "A1.10": {
          "Autonomous Agents 2": 2
         },
         "B0.201": {
          "Autonomous Agents 2": 1
         },
         "C0.110": {
          "Bioinformatica": 5
         },
         "C1.112": {
          "Bioinformatica": 4
         }
        },
        "13": {
         "A1.04": {
          "Bioinformatica": 3
         },
         "A1.06": {
          "Bioinformatica": 2
         },
         "A1.08": {
          "Bioinformatica": 1
         },
         "A1.10": {
          "Calculus 2": 2
         },
         "B0.201": {
          "Calculus 2": 1
         },
         "C0.110": {
          "Collectieve Intelligentie": 5
         },
         "C1.112": {
          "Collectieve Intelligentie": 4
         }
        },
        "15": {
         "A1.04": {
          "Collectieve Intelligentie": 3
         },
         "A1.06": {
          "Collectieve Intelligentie": 2
         },
         "A1.08": {
          "Collectieve Intelligentie": 1
         },
         "A1.10": {
          "Compilerbouw": 4
         },
         "B0.201": {
          "Compilerbouw": 3
         },
         "C0.110": {
          "Compilerbouw": 2
         },
         "C1.112": {
          "Compilerbouw": 1
         }
        },
        "17": {
         "A1.04": {
          "Compilerbouw practicum": 1
         },
         "A1.06": {
          "Data Mining": 4
         },
         "A1.08": {
          "Data Mining": 3
         },
         "A1.10": {
          "Data Mining": 2
         },
         "B0.201": {
          "Data Mining": 1
         },
         "C0.110": {
          "Databases 2": 2
         },
         "C1.112": {
          "Databases 2": 1
         }
        }
       },
       "Thursday": {
        "9": {
         "A1.04": {},
         "A1.06": {},
         "A1.08": {},
         "A1.10": {},
         "B0.201": {},
         "C0.110": {},
         "C1.112": {}
        },
        "11": {
         "A1.04": {},
         "A1.06": {},
         "A1.08": {},
         "A1.10": {},
         "B0.201": {},
         "C0.110": {},
         "C1.112": {}
        },
        "13": {
         "A1.04": {},
         "A1.06": {},
         "A1.08": {},
         "A1.10": {},
         "B0.201": {},
         "C0.110": {},
         "C1.112": {}
        },
        "15": {
         "A1.04": {},
         "A1.06": {},
         "A1.08": {},
         "A1.10": {},
         "B0.201": {},
         "C0.110": {},
         "C1.112": {}
        },
        "17": {
         "A1.04": {},
         "A1.06": {},
         "A1.08": {},
         "A1.10": {},
         "B0.201": {},
         "C0.110": {},
         "C1.112": {}
        }
       },
       "Tuesday": {
        "9": {
         "A1.04": {
          "Heuristieken 1": 2
         },
         "A1.06": {
          "Heuristieken 1": 1
         },
         "A1.08": {
          "Heuristieken 2": 2
         },
         "A1.10": {
          "Heuristieken 2": 1
         },
         "B0.201": {
          "Informatie- en organisatieontwerp": 4
         },
         "C0.110": {
          "Informatie- en organisatieontwerp": 3
         },
         "C1.112": {
          "Informatie- en organisatieontwerp": 2
         }
        },
        "11": {
         "A1.04": {
          "Informatie- en organisatieontwerp": 1
         },
         "A1.06": {
          "Interactie-ontwerp": 2
         },
         "A1.08": {
          "Interactie-ontwerp": 1
         },
         "A1.10": {
          "Kansrekenen 2": 2
         },
         "B0.201": {
          "Kansrekenen 2": 1
         },
         "C0.110": {
          "Lineaire Algebra": 2
         },
         "C1.112": {
          "Lineaire Algebra": 1
         }
        },
        "13": {
         "A1.04": {
          "Machine Learning": 2
         },
         "A1.06": {
          "Machine Learning": 1
         },
         "A1.08": {
          "Moderne Databases": 3
         },
         "A1.10": {
          "Moderne Databases": 2
         },
         "B0.201": {
          "Moderne Databases": 1
         },
         "C0.110": {
          "Netwerken en systeembeveiliging": 1
         },
         "C1.112": {
          "Programmeren in Java 2": 1
         }
        },
        "15": {
         "A1.04": {
          "Project Genetic Algorithms": 1
         },
         "A1.06": {
          "Project Numerical Recipes": 1
         },
         "A1.08": {
          "Reflectie op de digitale cultuur": 3
         },
         "A1.10": {
          "Reflectie op de digitale cultuur": 2
         },
         "B0.201": {
          "Reflectie op de digitale cultuur": 1
         },
         "C0.110": {
          "Software engineering": 3
         },
         "C1.112": {
          "Software engineering": 2
         }
        },
        "17": {
         "A1.04": {
          "Software engineering": 1
         },
         "A1.06": {
          "Technology for games": 3
         },
         "A1.08": {
          "Technology for games": 2
         },
         "A1.10": {
          "Technology for games": 1
         },
         "B0.201": {
          "Webprogrammeren en databases": 4
         },
         "C0.110": {
          "Webprogrammeren en databases": 3
         },
         "C1.112": {
          "Webprogrammeren en databases": 2
         }
        }
       },
       "Wednesday": {
        "9": {
         "A1.04": {
          "Webprogrammeren en databases": 1
         },
         "A1.06": {
          "Zoeken sturen en bewegen": 1
         },
         "A1.08": {},
         "A1.10": {},
         "B0.201": {},
         "C0.110": {},
         "C1.112": {}
        },
        "11": {
         "A1.04": {},
         "A1.06": {},
         "A1.08": {},
         "A1.10": {},
         "B0.201": {},
         "C0.110": {},
         "C1.112": {}
        },
        "13": {
         "A1.04": {},
         "A1.06": {},
         "A1.08": {},
         "A1.10": {},
         "B0.201": {},
         "C0.110": {},
         "C1.112": {}
        },
        "15": {
         "A1.04": {},
         "A1.06": {},
         "A1.08": {},
         "A1.10": {},
         "B0.201": {},
         "C0.110": {},
         "C1.112": {}
        },
        "17": {
         "A1.04": {},
         "A1.06": {},
         "A1.08": {},
         "A1.10": {},
         "B0.201": {},
         "C0.110": {},
         "C1.112": {}
        }
       }
      },
      "text/plain": [
       "<IPython.core.display.JSON object>"
      ]
     },
     "execution_count": 63,
     "metadata": {
      "application/json": {
       "expanded": true,
       "root": "root"
      }
     },
     "output_type": "execute_result"
    }
   ],
   "source": [
    "schedule = scheduler()\n",
    "vak_id = 0\n",
    "n_colleges: int = df_vakken.iloc[vak_id][\"#Hoorcolleges\"] + df_vakken.iloc[vak_id][\"#Practica\"] + df_vakken.iloc[vak_id][\"#Werkcolleges\"]\n",
    "while vak_id < len(df_vakken):\n",
    "    for day in schedule.values():\n",
    "        for timeslot in day.values():\n",
    "            for hall in timeslot.values():\n",
    "                if vak_id == 29:\n",
    "                    break\n",
    "                hall.update({df_vakken.iloc[vak_id][\"Vak\"]: n_colleges})\n",
    "                n_colleges -= 1\n",
    "                if n_colleges == 0:\n",
    "                    vak_id += 1\n",
    "                    if vak_id < 29:\n",
    "                        n_colleges: int = df_vakken.iloc[vak_id][\"#Hoorcolleges\"] + df_vakken.iloc[vak_id][\"#Practica\"] + df_vakken.iloc[vak_id][\"#Werkcolleges\"]\n",
    "\n",
    "JSON(schedule, expanded=True)"
   ]
  }
 ],
 "metadata": {
  "kernelspec": {
   "display_name": "Python 3",
   "language": "python",
   "name": "python3"
  },
  "language_info": {
   "codemirror_mode": {
    "name": "ipython",
    "version": 3
   },
   "file_extension": ".py",
   "mimetype": "text/x-python",
   "name": "python",
   "nbconvert_exporter": "python",
   "pygments_lexer": "ipython3",
   "version": "3.10.6"
  },
  "orig_nbformat": 4
 },
 "nbformat": 4,
 "nbformat_minor": 2
}
