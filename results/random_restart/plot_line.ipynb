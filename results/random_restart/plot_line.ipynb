{
 "cells": [
  {
   "cell_type": "code",
   "execution_count": 50,
   "metadata": {},
   "outputs": [],
   "source": [
    "import pandas as pd\n",
    "import numpy as np\n",
    "from matplotlib import pyplot as plt"
   ]
  },
  {
   "cell_type": "code",
   "execution_count": 51,
   "metadata": {},
   "outputs": [
    {
     "data": {
      "text/html": [
       "<div>\n",
       "<style scoped>\n",
       "    .dataframe tbody tr th:only-of-type {\n",
       "        vertical-align: middle;\n",
       "    }\n",
       "\n",
       "    .dataframe tbody tr th {\n",
       "        vertical-align: top;\n",
       "    }\n",
       "\n",
       "    .dataframe thead th {\n",
       "        text-align: right;\n",
       "    }\n",
       "</style>\n",
       "<table border=\"1\" class=\"dataframe\">\n",
       "  <thead>\n",
       "    <tr style=\"text-align: right;\">\n",
       "      <th></th>\n",
       "      <th>run number</th>\n",
       "      <th>total penalty</th>\n",
       "      <th>conflict penalty</th>\n",
       "      <th>gap penalty</th>\n",
       "      <th>capacity penalty</th>\n",
       "      <th>runtime</th>\n",
       "      <th>iteration progression</th>\n",
       "    </tr>\n",
       "  </thead>\n",
       "  <tbody>\n",
       "    <tr>\n",
       "      <th>0</th>\n",
       "      <td>0</td>\n",
       "      <td>551</td>\n",
       "      <td>326</td>\n",
       "      <td>121</td>\n",
       "      <td>20</td>\n",
       "      <td>124.326</td>\n",
       "      <td>[2441, 2436, 2436, 2436, 2420, 2420, 2420, 239...</td>\n",
       "    </tr>\n",
       "    <tr>\n",
       "      <th>1</th>\n",
       "      <td>1</td>\n",
       "      <td>517</td>\n",
       "      <td>367</td>\n",
       "      <td>57</td>\n",
       "      <td>15</td>\n",
       "      <td>124.466</td>\n",
       "      <td>[2451, 2403, 2399, 2399, 2380, 2380, 2380, 238...</td>\n",
       "    </tr>\n",
       "  </tbody>\n",
       "</table>\n",
       "</div>"
      ],
      "text/plain": [
       "   run number  total penalty  conflict penalty  gap penalty  capacity penalty   \n",
       "0           0            551               326          121                20  \\\n",
       "1           1            517               367           57                15   \n",
       "\n",
       "   runtime                              iteration progression  \n",
       "0  124.326  [2441, 2436, 2436, 2436, 2420, 2420, 2420, 239...  \n",
       "1  124.466  [2451, 2403, 2399, 2399, 2380, 2380, 2380, 238...  "
      ]
     },
     "metadata": {},
     "output_type": "display_data"
    }
   ],
   "source": [
    "df_sa = pd.read_csv('Simulated Annealing Algorithm_scores.csv')\n",
    "df_sa['iteration progression'] = df_sa['iteration progression'].apply(lambda x: x[1: -1].split(', '))\n",
    "df_sa['iteration progression'] = df_sa['iteration progression'].apply(lambda lst: list(map(int, lst)))\n",
    "display(df_sa)"
   ]
  },
  {
   "cell_type": "code",
   "execution_count": 54,
   "metadata": {},
   "outputs": [
    {
     "data": {
      "text/html": [
       "<div>\n",
       "<style scoped>\n",
       "    .dataframe tbody tr th:only-of-type {\n",
       "        vertical-align: middle;\n",
       "    }\n",
       "\n",
       "    .dataframe tbody tr th {\n",
       "        vertical-align: top;\n",
       "    }\n",
       "\n",
       "    .dataframe thead th {\n",
       "        text-align: right;\n",
       "    }\n",
       "</style>\n",
       "<table border=\"1\" class=\"dataframe\">\n",
       "  <thead>\n",
       "    <tr style=\"text-align: right;\">\n",
       "      <th></th>\n",
       "      <th>run number</th>\n",
       "      <th>total penalty</th>\n",
       "      <th>conflict penalty</th>\n",
       "      <th>gap penalty</th>\n",
       "      <th>capacity penalty</th>\n",
       "      <th>runtime</th>\n",
       "      <th>iteration progression</th>\n",
       "    </tr>\n",
       "  </thead>\n",
       "  <tbody>\n",
       "  </tbody>\n",
       "</table>\n",
       "</div>"
      ],
      "text/plain": [
       "Empty DataFrame\n",
       "Columns: [run number, total penalty, conflict penalty, gap penalty, capacity penalty, runtime, iteration progression]\n",
       "Index: []"
      ]
     },
     "metadata": {},
     "output_type": "display_data"
    }
   ],
   "source": [
    "df_hc = pd.read_csv('HillClimber Algorithm_scores.csv')\n",
    "df_hc['iteration progression'] = df_hc['iteration progression'].apply(lambda x: x[1: -1].split(', '))\n",
    "df_hc['iteration progression'] = df_hc['iteration progression'].apply(lambda lst: list(map(int, lst)))\n",
    "display(df_hc)"
   ]
  },
  {
   "cell_type": "code",
   "execution_count": 53,
   "metadata": {},
   "outputs": [
    {
     "ename": "IndexError",
     "evalue": "list index out of range",
     "output_type": "error",
     "traceback": [
      "\u001b[0;31m---------------------------------------------------------------------------\u001b[0m",
      "\u001b[0;31mIndexError\u001b[0m                                Traceback (most recent call last)",
      "Cell \u001b[0;32mIn[53], line 2\u001b[0m\n\u001b[1;32m      1\u001b[0m plt\u001b[39m.\u001b[39mfigure(figsize\u001b[39m=\u001b[39m(\u001b[39m24\u001b[39m,\u001b[39m18\u001b[39m))\n\u001b[0;32m----> 2\u001b[0m plt\u001b[39m.\u001b[39mplot(\u001b[39mlist\u001b[39;49m(df_hc[df_hc[\u001b[39m'\u001b[39;49m\u001b[39mtotal penalty\u001b[39;49m\u001b[39m'\u001b[39;49m] \u001b[39m==\u001b[39;49m df_hc[\u001b[39m'\u001b[39;49m\u001b[39mtotal penalty\u001b[39;49m\u001b[39m'\u001b[39;49m]\u001b[39m.\u001b[39;49mmin()][\u001b[39m'\u001b[39;49m\u001b[39miteration progression\u001b[39;49m\u001b[39m'\u001b[39;49m])[\u001b[39m0\u001b[39;49m], label\u001b[39m=\u001b[39m\u001b[39m'\u001b[39m\u001b[39mHillClimber\u001b[39m\u001b[39m'\u001b[39m)\n\u001b[1;32m      3\u001b[0m plt\u001b[39m.\u001b[39mplot(\u001b[39mlist\u001b[39m(df_sa[df_sa[\u001b[39m'\u001b[39m\u001b[39mtotal penalty\u001b[39m\u001b[39m'\u001b[39m] \u001b[39m==\u001b[39m df_sa[\u001b[39m'\u001b[39m\u001b[39mtotal penalty\u001b[39m\u001b[39m'\u001b[39m]\u001b[39m.\u001b[39mmin()][\u001b[39m'\u001b[39m\u001b[39miteration progression\u001b[39m\u001b[39m'\u001b[39m])[\u001b[39m0\u001b[39m], label\u001b[39m=\u001b[39m\u001b[39m'\u001b[39m\u001b[39mSimulated Annealing\u001b[39m\u001b[39m'\u001b[39m)\n\u001b[1;32m      4\u001b[0m plt\u001b[39m.\u001b[39mlegend()\n",
      "\u001b[0;31mIndexError\u001b[0m: list index out of range"
     ]
    },
    {
     "data": {
      "text/plain": [
       "<Figure size 2400x1800 with 0 Axes>"
      ]
     },
     "metadata": {},
     "output_type": "display_data"
    }
   ],
   "source": [
    "plt.figure(figsize=(24,18))\n",
    "plt.plot(list(df_hc[df_hc['total penalty'] == df_hc['total penalty'].min()]['iteration progression'])[0], label='HillClimber')\n",
    "plt.plot(list(df_sa[df_sa['total penalty'] == df_sa['total penalty'].min()]['iteration progression'])[0], label='Simulated Annealing')\n",
    "plt.legend()\n",
    "plt.show()"
   ]
  },
  {
   "cell_type": "code",
   "execution_count": null,
   "metadata": {},
   "outputs": [],
   "source": [
    "plt.pyplot.plot()"
   ]
  }
 ],
 "metadata": {
  "kernelspec": {
   "display_name": "Python 3",
   "language": "python",
   "name": "python3"
  },
  "language_info": {
   "codemirror_mode": {
    "name": "ipython",
    "version": 3
   },
   "file_extension": ".py",
   "mimetype": "text/x-python",
   "name": "python",
   "nbconvert_exporter": "python",
   "pygments_lexer": "ipython3",
   "version": "3.10.6"
  },
  "orig_nbformat": 4
 },
 "nbformat": 4,
 "nbformat_minor": 2
}
